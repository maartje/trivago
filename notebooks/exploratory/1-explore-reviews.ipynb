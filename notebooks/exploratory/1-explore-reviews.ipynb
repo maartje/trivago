{
 "cells": [
  {
   "cell_type": "code",
   "execution_count": 1,
   "metadata": {
    "collapsed": true
   },
   "outputs": [],
   "source": [
    "import pandas as pd\n",
    "import json\n",
    "from pandas.io.json import json_normalize"
   ]
  },
  {
   "cell_type": "code",
   "execution_count": 2,
   "metadata": {
    "collapsed": true
   },
   "outputs": [],
   "source": [
    "path_to_reviews3 = '../../data/reviews3.json'"
   ]
  },
  {
   "cell_type": "code",
   "execution_count": 3,
   "metadata": {
    "collapsed": true
   },
   "outputs": [],
   "source": [
    "with open(path_to_reviews3) as data_file:    \n",
    "    data = json.load(data_file)"
   ]
  },
  {
   "cell_type": "code",
   "execution_count": 4,
   "metadata": {},
   "outputs": [
    {
     "data": {
      "text/plain": [
       "dict_keys(['Reviews', 'HotelInfo'])"
      ]
     },
     "execution_count": 4,
     "metadata": {},
     "output_type": "execute_result"
    }
   ],
   "source": [
    "data.keys()"
   ]
  },
  {
   "cell_type": "code",
   "execution_count": 5,
   "metadata": {},
   "outputs": [
    {
     "data": {
      "text/plain": [
       "{'Address': '<address><span rel=\"v:address\"><span dir=\"ltr\"><span class=\"street-address\" property=\"v:street-address\">2911 Colorado Boulevard</span>, <span class=\"locality\"><span property=\"v:locality\">Los Angeles</span>, <span property=\"v:region\">CA</span> <span property=\"v:postal-code\">90041</span></span> </span></span></address>',\n",
       " 'HotelID': '76790',\n",
       " 'HotelURL': '/ShowUserReviews-g32655-d76790-Reviews-BEST_WESTERN_PLUS_Eagle_Rock_Inn-Los_Angeles_California.html',\n",
       " 'ImgURL': 'http://media-cdn.tripadvisor.com/media/ProviderThumbnails/dirs/e9/aa/e9aaacbae65b2c1a0509e902aee969571large.jpg',\n",
       " 'Name': 'BEST WESTERN PLUS Eagle Rock Inn',\n",
       " 'Price': '$95 - $97*'}"
      ]
     },
     "execution_count": 5,
     "metadata": {},
     "output_type": "execute_result"
    }
   ],
   "source": [
    "hotel = data['HotelInfo']\n",
    "hotel"
   ]
  },
  {
   "cell_type": "code",
   "execution_count": 6,
   "metadata": {
    "collapsed": true
   },
   "outputs": [],
   "source": [
    "df_reviews = json_normalize(data['Reviews'])"
   ]
  },
  {
   "cell_type": "code",
   "execution_count": 7,
   "metadata": {},
   "outputs": [
    {
     "data": {
      "text/html": [
       "<div>\n",
       "<table border=\"1\" class=\"dataframe\">\n",
       "  <thead>\n",
       "    <tr style=\"text-align: right;\">\n",
       "      <th></th>\n",
       "      <th>Author</th>\n",
       "      <th>AuthorLocation</th>\n",
       "      <th>Content</th>\n",
       "      <th>Date</th>\n",
       "      <th>Ratings.Business service (e.g., internet access)</th>\n",
       "      <th>Ratings.Check in / front desk</th>\n",
       "      <th>Ratings.Cleanliness</th>\n",
       "      <th>Ratings.Location</th>\n",
       "      <th>Ratings.Overall</th>\n",
       "      <th>Ratings.Rooms</th>\n",
       "      <th>Ratings.Service</th>\n",
       "      <th>Ratings.Sleep Quality</th>\n",
       "      <th>Ratings.Value</th>\n",
       "      <th>ReviewID</th>\n",
       "      <th>Title</th>\n",
       "    </tr>\n",
       "  </thead>\n",
       "  <tbody>\n",
       "    <tr>\n",
       "      <th>0</th>\n",
       "      <td>TRTW</td>\n",
       "      <td>Henderson, Nevada</td>\n",
       "      <td>I was on a budget and was looking for a place ...</td>\n",
       "      <td>November 5, 2011</td>\n",
       "      <td>NaN</td>\n",
       "      <td>NaN</td>\n",
       "      <td>4</td>\n",
       "      <td>5</td>\n",
       "      <td>4.0</td>\n",
       "      <td>4</td>\n",
       "      <td>4</td>\n",
       "      <td>5</td>\n",
       "      <td>5</td>\n",
       "      <td>UR120202096</td>\n",
       "      <td>“Reasonably Priced for L.A. Area”</td>\n",
       "    </tr>\n",
       "    <tr>\n",
       "      <th>1</th>\n",
       "      <td>lindyhopper63</td>\n",
       "      <td>Waxahachie, Texas</td>\n",
       "      <td>Rooms were nice with refrigerator and microwav...</td>\n",
       "      <td>August 11, 2011</td>\n",
       "      <td>NaN</td>\n",
       "      <td>NaN</td>\n",
       "      <td>5</td>\n",
       "      <td>NaN</td>\n",
       "      <td>4.0</td>\n",
       "      <td>NaN</td>\n",
       "      <td>3</td>\n",
       "      <td>5</td>\n",
       "      <td>4</td>\n",
       "      <td>UR116586908</td>\n",
       "      <td>“Great place to crash”</td>\n",
       "    </tr>\n",
       "    <tr>\n",
       "      <th>2</th>\n",
       "      <td>AZ_Traveler1900</td>\n",
       "      <td>Tucson, AZ</td>\n",
       "      <td>This property is located at the insection of C...</td>\n",
       "      <td>June 4, 2011</td>\n",
       "      <td>NaN</td>\n",
       "      <td>NaN</td>\n",
       "      <td>5</td>\n",
       "      <td>NaN</td>\n",
       "      <td>3.0</td>\n",
       "      <td>NaN</td>\n",
       "      <td>3</td>\n",
       "      <td>3</td>\n",
       "      <td>2</td>\n",
       "      <td>UR111424820</td>\n",
       "      <td>“Not worth the price.”</td>\n",
       "    </tr>\n",
       "  </tbody>\n",
       "</table>\n",
       "</div>"
      ],
      "text/plain": [
       "            Author     AuthorLocation  \\\n",
       "0             TRTW  Henderson, Nevada   \n",
       "1    lindyhopper63  Waxahachie, Texas   \n",
       "2  AZ_Traveler1900         Tucson, AZ   \n",
       "\n",
       "                                             Content              Date  \\\n",
       "0  I was on a budget and was looking for a place ...  November 5, 2011   \n",
       "1  Rooms were nice with refrigerator and microwav...   August 11, 2011   \n",
       "2  This property is located at the insection of C...      June 4, 2011   \n",
       "\n",
       "  Ratings.Business service (e.g., internet access)  \\\n",
       "0                                              NaN   \n",
       "1                                              NaN   \n",
       "2                                              NaN   \n",
       "\n",
       "  Ratings.Check in / front desk Ratings.Cleanliness Ratings.Location  \\\n",
       "0                           NaN                   4                5   \n",
       "1                           NaN                   5              NaN   \n",
       "2                           NaN                   5              NaN   \n",
       "\n",
       "  Ratings.Overall Ratings.Rooms Ratings.Service Ratings.Sleep Quality  \\\n",
       "0             4.0             4               4                     5   \n",
       "1             4.0           NaN               3                     5   \n",
       "2             3.0           NaN               3                     3   \n",
       "\n",
       "  Ratings.Value     ReviewID                              Title  \n",
       "0             5  UR120202096  “Reasonably Priced for L.A. Area”  \n",
       "1             4  UR116586908             “Great place to crash”  \n",
       "2             2  UR111424820             “Not worth the price.”  "
      ]
     },
     "execution_count": 7,
     "metadata": {},
     "output_type": "execute_result"
    }
   ],
   "source": [
    "df_reviews.head(3)"
   ]
  },
  {
   "cell_type": "code",
   "execution_count": 8,
   "metadata": {},
   "outputs": [
    {
     "data": {
      "text/plain": [
       "\"I was on a budget and was looking for a place to stay while in L.A. Fortunately, I found this place at a very reasonable price. Arriving late at night I notice the parking lot was FULL. I mean, my car could only move in one direction as the cars were too close to one another. They may have had a group staying in the hotel that night. The check-in clerk was nice and showed me where to park (in between two handicap spaces that said 'NO PARKING'). I was worried I would get a ticket but the clerk said it's only for one night. The room was nice. It had all the basic necessities one needs. I like how there were a lot of TV stations and the Internet connection was fast. Early in the morning I went down to get breakfast and the room was very small. Food selection was ok but opted to eat at a restaurant that served breakfast. I toured L.A. for the day and upon my return to the room it was clean. HOWEVER, I realized the cleaning staff took all my soap away and forgot to replace them. So at 10 p.m., I went downstairs to the lobby and asked for soap. I got a facial soap (as that's what was left). I had to use this small facial soap in taking a shower. Anyway, I gave this place a Very Good rating because the room was overall comfortable, the price was reasonable, and it was close to the freeway (to get to where I want). What I didn't like was the parking, breakfast, and the fact they forgot to put soap in my room. I'd still stay here if money is tight or I want to save. By the way, if you plan to use the pool it's very small.\""
      ]
     },
     "execution_count": 8,
     "metadata": {},
     "output_type": "execute_result"
    }
   ],
   "source": [
    "contents = df_reviews['Content']\n",
    "contents[0]"
   ]
  },
  {
   "cell_type": "code",
   "execution_count": null,
   "metadata": {
    "collapsed": true
   },
   "outputs": [],
   "source": []
  }
 ],
 "metadata": {
  "kernelspec": {
   "display_name": "Python 3",
   "language": "python",
   "name": "python3"
  },
  "language_info": {
   "codemirror_mode": {
    "name": "ipython",
    "version": 3
   },
   "file_extension": ".py",
   "mimetype": "text/x-python",
   "name": "python",
   "nbconvert_exporter": "python",
   "pygments_lexer": "ipython3",
   "version": "3.6.1"
  }
 },
 "nbformat": 4,
 "nbformat_minor": 2
}
